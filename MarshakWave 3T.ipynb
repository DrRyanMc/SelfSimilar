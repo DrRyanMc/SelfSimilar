{
 "cells": [
  {
   "cell_type": "markdown",
   "metadata": {},
   "source": [
    "### "
   ]
  },
  {
   "cell_type": "code",
   "execution_count": 31,
   "metadata": {},
   "outputs": [],
   "source": [
    "import numpy as np\n",
    "import matplotlib.pyplot as plt\n",
    "import math\n",
    "from scipy import interpolate\n",
    "from scipy import integrate\n",
    "import time\n",
    "import numpy as np\n",
    "import matplotlib\n",
    "import matplotlib.pyplot as plt\n",
    "from math import sqrt\n",
    "from math import pi\n",
    "import matplotlib.font_manager as fm\n",
    "import matplotlib.ticker as mtick\n",
    "from matplotlib.ticker import ScalarFormatter\n",
    "from scipy import optimize\n",
    "from labellines import labelLine, labelLines\n",
    "import csv"
   ]
  },
  {
   "cell_type": "code",
   "execution_count": 32,
   "metadata": {},
   "outputs": [],
   "source": [
    "#Import show() function for plotting \n",
    "%run C:\\Users\\wbenn/Marshak_Wave_Scripts/show.ipynb\n",
    "#Import initial conditions\n",
    "%run C:\\Users\\wbenn/Marshak_Wave_Scripts/initial_conditions.ipynb\n"
   ]
  },
  {
   "cell_type": "markdown",
   "metadata": {},
   "source": [
    "## ODE'S to solve:\n",
    "### Time transform :\n",
    "$$[1]\\qquad -\\xi \\frac{dT_e}{d\\xi} = \\frac{d^2 T_e^{n+4}}{d\\xi^2} +  \\frac{\\gamma_0}{C_{\\mathrm{ve}}}T_{\\mathrm{e}}^{-m} (T_i-T_e)$$\n",
    "$$[2] \\qquad-\\xi \\frac{dT_i}{d\\xi} = -\\frac{\\gamma_0}{ C_{\\mathrm{vi}}} T_{\\mathrm{e}}^{-m}(T_i-T_e)$$\n",
    "### Space transform: \n",
    "\n",
    "$$[3] \\qquad -\\xi \\frac{dT_e}{d\\xi} = \\frac{d^2 T_e^{n+4}}{d\\xi^2} +\\frac{\\gamma_0}{ C_{\\mathrm{ve}}\\xi^2} T_{\\mathrm{e}}^{-m} (T_i-T_e) $$\n",
    "$$[4] -\\xi \\frac{dT_i}{d\\xi} = -\\frac{\\gamma_0}{ C_{\\mathrm{vi}} \\xi^2} T_{\\mathrm{e}}^{-m}(T_i-T_e)$$\n",
    "### Derive 1st order ODE for [1]:\n",
    "\\begin{equation}\n",
    "    -\\xi \\frac{dT_e}{d\\xi} = \\frac{d^2 T_e^{n+4}}{d\\xi^2} +  \\frac{\\gamma_0}{C_{\\mathrm{ve}}}T_{\\mathrm{e}}^{-m} (T_i-T_e)\n",
    "\\end{equation}\n",
    "Define a new function u:\n",
    "$$u(\\xi) = T'_e(\\xi)  $$\n",
    "$$\\frac{d^2 T_e^{n+4}}{d \\xi} = (n+4) T_e(\\xi)^{n+2} \\left((n+3) u^2+T_e(\\xi) u'(\\xi)\\right)$$\n",
    "\n",
    "[1] becomes:\n",
    "\\begin{equation}\n",
    "    -\\xi u = (n+4) T_e(\\xi)^{n+2} \\left((n+3) u^2+T_e(\\xi) u'(\\xi)\\right) +  \\frac{\\gamma_0}{C_{\\mathrm{ve}}}T_{\\mathrm{e}}^{-m}(T_i-T_e)\n",
    "\\end{equation}\n",
    "Solving for u':\n",
    "\n",
    "\\begin{equation}\n",
    "     \\frac{-\\xi u -  \\frac{\\gamma_0}{C_{\\mathrm{ve}}}T_{\\mathrm{e}}^{-m}(T_i-T_e)}{(n+4)T_e^{n+2}}-(n+3)u^2 = T_e(\\xi)u'(\\xi)\n",
    "\\end{equation}\n",
    "Simplifying:\n",
    "\\begin{equation}\n",
    "    u' = -\\frac{\\frac{\\xi u +  \\frac{\\gamma_0}{C_{\\mathrm{ve}}}T_{\\mathrm{e}}^{-m}(Ti-T_e)T_e^{-n} }{n+4} + (n+3)u^2T_e^2}{T_e^3}\n",
    "\\end{equation}\n",
    "### Derive 1st order ODE for [3]:\n",
    "\\begin{equation}\n",
    "    -\\xi \\frac{dT_e}{d\\xi} = \\frac{d^2 T_e^{n+4}}{d\\xi^2} +\\frac{\\gamma_0}{ C_{\\mathrm{ve}}\\xi^2} T_{\\mathrm{e}}^{-m} (T_i-T_e)\n",
    "\\end{equation}\n",
    "Define $ u' = T_e'$\n",
    "\\begin{equation}\n",
    "    -\\xi u(\\xi) = (n+4) T_e(\\xi)^{n+2} \\left((n+3) u^2(\\xi)+T_e(\\xi) u'(\\xi)\\right) + \\frac{\\gamma_0}{ C_{\\mathrm{ve}}\\xi^2} T_{\\mathrm{e}}^{-m}\\left(T_i(\\xi)-T_e(\\xi)\\right)\n",
    "\\end{equation}\n",
    "Solving for u'\n",
    "\\begin{equation}\n",
    "    \\frac{-\\xi u(\\xi)- \\frac{\\gamma_0}{ C_{\\mathrm{ve}}\\xi^2} T_{\\mathrm{e}}^{-m}(T_i(\\xi)-T_e(\\xi))}{(n+4)T_e(\\xi)^{n+2}} - (n+3)u^2(\\xi) = T_e(\\xi) u'(\\xi) \n",
    "\\end{equation}\n",
    "\\begin{equation}\n",
    "    u'(\\xi)= \\frac{-\\xi u(\\xi)Te^{-n} - \\frac{\\gamma_0}{C_{\\mathrm{ve}}\\xi^2}Te^{-(n+m)}\\left(Ti-Te\\right)-(n+3)(n+4)Te^2u^2}       {Ti^3(n+4)}\n",
    "\\end{equation}\n",
    "### Initial Conditions\n",
    "### IC for Te for the space and time transforms\n",
    "\\begin{equation}\n",
    "    T_e(\\xi) = \\bigg{(}\\frac{(n+3)}{(n+4)}\\xi_{\\mathrm{max}}({\\xi_{\\mathrm{max}}}-\\xi)\\bigg{)}^{-(n+3)}\n",
    "\\end{equation}\n",
    "### Derivative of Te \n",
    "\\begin{equation}\n",
    "    \\frac{dT_e}{d\\xi} = -\\bigg{(}\\frac{(n+3)}{(n+4)}\\xi_{\\mathrm{max}}\\bigg{)}^{1/(n+3)}\\bigg{(}\\frac{(\\xi_{\\mathrm{max}}-\\xi)}{n+3}\\bigg{)}^{(2-n)/(n+3)}\n",
    "\\end{equation}\n",
    "### Ti initial conditions for time transform \n",
    "\\begin{equation}\n",
    "T^{(1)}_i(\\xi)= \\frac{\\gamma_0}{\\mathrm{Cv_i}}\\frac{(n+3)}{(n+4)}\\frac{(\\xi_{\\mathrm{max}}-\\xi_{\\mathrm{max}})}{\\xi_{\\mathrm{max}}}T_e^{(1)}(\\xi).\n",
    "\\end{equation}\n",
    "### Ti initial conditions for space transform\n",
    "\\begin{equation}\n",
    "\\begin{split}\n",
    "Ti^{(1)}=\\frac{4\\frac{\\gamma_0}{\\mathrm{C_vi}}(n+3)(-\\xi_{\\mathrm{max}}+\\xi)Te^{(1)}}{(n+4)(2\\frac{\\gamma_0}{\\mathrm{C_vi}}\\xi^2-\\xi^3-4\\frac{\\gamma_0}{\\mathrm{C_vi}}\\xi\\xi_{\\mathrm{max}}-\\xi^2\\xi_{\\mathrm{max}}+2\\frac{\\gamma_0}{\\mathrm{C_vi}}\\xi_{\\mathrm{max}}^2-\\xi\\xi_{\\mathrm{max}}-\\xi_{\\mathrm{max}}^3)}.\n",
    "\\end{split}\n",
    "\\end{equation}"
   ]
  },
  {
   "cell_type": "markdown",
   "metadata": {},
   "source": [
    "### Definitions of Parameters and variables\n",
    "$ \\xi = A \\frac{x}{\\sqrt{t}}, \\qquad A^2 = \\frac{1}{2\\alpha}, \\qquad \\alpha = \\frac{ac}{3} \\frac{4}{n+4} \\frac{T_0^{-n}}{\\kappa_0 C_{\\mathrm{ve}}}, \\qquad  \\gamma(x,t,T_{\\mathrm{e}}) = \\gamma_0 T_{\\mathrm{e}}^{-m} f(x,t), \\qquad m=0, 3/2$"
   ]
  },
  {
   "cell_type": "markdown",
   "metadata": {},
   "source": [
    "### Test Problem Parameters\n",
    "$C_{ve} = 0.1 [GJcm^{-3}keV^{-1}], \\qquad C_{vi} = 0.05 [GJcm^{-3}keV^{-1}], \\qquad \\gamma_0 = [cm^3keV-ns], \\qquad \\rho = 3.0 [gcm^{-3}], \\qquad a = 0.01372 [GJKeV^{-4} cm^{-3}], \\qquad  c = 29.9792458 [cm ns^{-1}], \\qquad n = 3$"
   ]
  },
  {
   "cell_type": "markdown",
   "metadata": {},
   "source": [
    "### Define constants"
   ]
  },
  {
   "cell_type": "code",
   "execution_count": 33,
   "metadata": {},
   "outputs": [
    {
     "name": "stdout",
     "output_type": "stream",
     "text": [
      "0.0008710530370370367\n",
      "0.0008710530370370367\n"
     ]
    }
   ],
   "source": [
    "n = 3\n",
    "T0=1\n",
    "c=29.998\n",
    "a=0.01372\n",
    "kappa0=100\n",
    "xmax=1.2\n",
    "rho = 3.0\n",
    "Cve=0.1*rho\n",
    "Cvi=.05*rho\n",
    "#alpha2= a*c*4*T0**(-n)/(3*(n+4)*kappa0*Cve)\n",
    "alpha= a*c*4/(3*(n+4)*kappa0*Cve*(T0**n)*rho)\n",
    "\n",
    "A = sqrt(1/(2*alpha))\n",
    "tol = 1e-12\n",
    "m=0\n",
    "gamma0=0.5\n",
    "ICt = [g(xmax-tol,xmax),gprime(xmax-tol,xmax), h(xmax-tol,xmax)]\n",
    "ICs = [g(xmax-tol,xmax),gprime(xmax-tol,xmax), f(xmax-tol,xmax)]\n",
    "print(alpha)\n",
    "step=1e-4\n",
    "\n",
    "print(alpha)"
   ]
  },
  {
   "cell_type": "markdown",
   "metadata": {},
   "source": [
    "### Optimize functions to find ximax"
   ]
  },
  {
   "cell_type": "code",
   "execution_count": 34,
   "metadata": {},
   "outputs": [],
   "source": [
    "#Time dependent optimize functions\n",
    "#using BDF to solve time dependent eqs 1,2\n",
    "opt_fun_BDF_time = lambda xm: integrate.solve_ivp(RHSfun_time, (xm-tol,1e-10), [g(xm-tol,xm),gprime(xm-tol,xm), h(xm-tol,xm)], \n",
    "                                         method='BDF', max_step = step).y[0][-1] - 1\n",
    "#Using DOP853 to solve time dependent\n",
    "opt_fun_DOP_time = lambda xm: integrate.solve_ivp(RHSfun_time, (xm-tol,0), [g(xm-tol,xm),gprime(xm-tol,xm), h(xm-tol,xm)], \n",
    "                                         method='DOP853', max_step = step).y[0][-1] - 1\n",
    "#Space dependent(BDF) eqs 2,3\n",
    "opt_fun_BDF_space = lambda xm: integrate.solve_ivp(RHSfun_space, (xm-tol,1e-10), [g(xm-tol,xm),gprime(xm-tol,xm), f(xm-tol,xm)], \n",
    "                                         method='BDF', max_step = step).y[0][-1] - 1"
   ]
  },
  {
   "cell_type": "markdown",
   "metadata": {},
   "source": [
    "### Output results for numerical code verification"
   ]
  },
  {
   "cell_type": "markdown",
   "metadata": {},
   "source": [
    "#### Time dependent case"
   ]
  },
  {
   "cell_type": "code",
   "execution_count": 35,
   "metadata": {},
   "outputs": [
    {
     "name": "stdout",
     "output_type": "stream",
     "text": [
      "0.9608120188394155\n"
     ]
    },
    {
     "data": {
      "image/png": "[encoded data removed]",
      "text/plain": [
       "<Figure size 432x288 with 1 Axes>"
      ]
     },
     "metadata": {
      "needs_background": "light"
     },
     "output_type": "display_data"
    },
    {
     "data": {
      "text/plain": [
       "1.5"
      ]
     },
     "execution_count": 35,
     "metadata": {},
     "output_type": "execute_result"
    }
   ],
   "source": [
    "#Choose parameters\n",
    "m=3/2\n",
    "minval = optimize.brentq(opt_fun_BDF_time, .8,1.2)\n",
    "print(minval)\n",
    "sol = integrate.solve_ivp(RHSfun_time, (minval-tol,1e-14), ICs, method='BDF', max_step = step)\n",
    "\n",
    "#choose initial and final times\n",
    "# 1 shake = 10 ns\n",
    "tau_i=1e-12\n",
    "tau_1=1\n",
    "tau_2=10\n",
    "tau_3=20\n",
    "\n",
    "z1=sqrt(tau_i)/A\n",
    "z2=sqrt(tau_1)/A\n",
    "z3 =sqrt(tau_2)/A\n",
    "z4 = sqrt(tau_3)/A\n",
    "ll = len(sol.t)\n",
    "\n",
    "TeList=np.ndarray.tolist(sol.y[0])\n",
    "TiList=np.ndarray.tolist(sol.y[2])\n",
    "\n",
    "xlistI=np.ndarray.tolist(sol.t*z1)\n",
    "xlist1=np.ndarray.tolist(sol.t*z2)\n",
    "xlist2=np.ndarray.tolist(sol.t*z3)\n",
    "xlist3=np.ndarray.tolist(sol.t*z4)\n",
    "\n",
    "#plot solution\n",
    "plt.plot(sol.t,sol.y[0])\n",
    "plt.plot(sol.t,sol.y[2])\n",
    "plt.xlabel(r\"Normalized Distance $\\xi$\")\n",
    "plt.ylabel(\"Normalized Temperature\")\n",
    "show(\"test\")\n",
    "\n",
    "# Write results to csv files \n",
    "#Initial condition\n",
    "with open('g1e-12_m32_gamma0_half_time.csv', 'w', ) as myfile:\n",
    "    wr = csv.writer(myfile, quoting=csv.QUOTE_NONE, lineterminator = '\\n',escapechar='')\n",
    "    \n",
    "    fields = ([\"position (cm)\", \"Electron Temp (KeV)\", \"Ion Temp (KeV)\"])\n",
    "    for i in range(ll):\n",
    "        wr.writerow([(xlistI[ll-1-i]),(TeList[ll-1-i]), (TiList[ll-1-i])])\n",
    "#results        \n",
    "with open('g1_m32_gamma0_half_time.csv', 'w', ) as myfile:\n",
    "    wr = csv.writer(myfile, quoting=csv.QUOTE_NONE, lineterminator = '\\n',escapechar='')\n",
    "    \n",
    "    fields = ([\"position (cm)\", \"Electron Temp (keV)\", \"Ion Temp (keV)\"])\n",
    "    for i in range(ll):\n",
    "        wr.writerow([(xlist1[ll-1-i]),(TeList[ll-1-i]), (TiList[ll-1-i])])\n",
    "with open('g10_m32_gamma0_half_time.csv', 'w', ) as myfile:\n",
    "    wr = csv.writer(myfile, quoting=csv.QUOTE_NONE, lineterminator = '\\n',escapechar='')\n",
    "    \n",
    "    fields = ([\"position (cm)\", \"Electron Temp (keV)\", \"Ion Temp (keV)\"])\n",
    "    for i in range(ll):\n",
    "        wr.writerow([(xlist2[ll-1-i]),(TeList[ll-1-i]), (TiList[ll-1-i])])\n",
    "with open('g20_m32_gamma0_half_time.csv', 'w', ) as myfile:\n",
    "    wr = csv.writer(myfile, quoting=csv.QUOTE_NONE, lineterminator = '\\n',escapechar='')\n",
    "    \n",
    "    fields = ([\"position (cm)\", \"Electron Temp (keV)\", \"Ion Temp (keV)\"])\n",
    "    for i in range(ll):\n",
    "        wr.writerow([(xlist3[ll-1-i]),(TeList[ll-1-i]), (TiList[ll-1-i])])\n",
    "m"
   ]
  },
  {
   "cell_type": "code",
   "execution_count": 36,
   "metadata": {},
   "outputs": [
    {
     "name": "stdout",
     "output_type": "stream",
     "text": [
      "1.0004139623298154 1e-14\n"
     ]
    }
   ],
   "source": [
    "### Check solution at x,t=0 \n",
    "print(sol.y[0][-1],sol.t[-1])"
   ]
  },
  {
   "cell_type": "markdown",
   "metadata": {},
   "source": [
    "#### Space Dependent case \n"
   ]
  },
  {
   "cell_type": "code",
   "execution_count": null,
   "metadata": {},
   "outputs": [
    {
     "name": "stderr",
     "output_type": "stream",
     "text": [
      "C:\\Users\\wbenn\\Anaconda3\\lib\\site-packages\\ipykernel_launcher.py:4: RuntimeWarning: invalid value encountered in double_scalars\n",
      "  after removing the cwd from sys.path.\n"
     ]
    }
   ],
   "source": [
    "#Choose parameters\n",
    "m=3/2\n",
    "minval = optimize.brentq(opt_fun_BDF_space, .8,1.2)\n",
    "print(minval)\n",
    "sol = integrate.solve_ivp(RHSfun_space, (minval-tol,1e-12), ICs, method='BDF', max_step = 1e-4)\n",
    "\n",
    "#choose initial and final times\n",
    "# 1 shake = 10 ns\n",
    "tau_i=1e-12\n",
    "tau_1=1\n",
    "tau_2=10\n",
    "tau_3=20\n",
    "\n",
    "z1=sqrt(tau_i)/A\n",
    "z2=sqrt(tau_1)/A\n",
    "z3 =sqrt(tau_2)/A\n",
    "z4 = sqrt(tau_3)/A\n",
    "ll = len(sol.t)\n",
    "\n",
    "TeList=np.ndarray.tolist(sol.y[0])\n",
    "TiList=np.ndarray.tolist(sol.y[2])\n",
    "\n",
    "xlistI=np.ndarray.tolist(sol.t*z1)\n",
    "xlist1=np.ndarray.tolist(sol.t*z2)\n",
    "xlist2=np.ndarray.tolist(sol.t*z3)\n",
    "xlist3=np.ndarray.tolist(sol.t*z4)\n",
    "\n",
    "#plot solution\n",
    "plt.plot(sol.t,sol.y[0])\n",
    "plt.plot(sol.t,sol.y[2])\n",
    "plt.xlabel(r\"Normalized Distance $\\xi$\")\n",
    "plt.ylabel(\"Normalized Temperature\")\n",
    "show(\"test\")\n",
    "\n",
    "# Write results to csv files \n",
    "#Initial condition\n",
    "with open('g1e-12_m32_gamma0_half_space.csv', 'w', ) as myfile:\n",
    "    wr = csv.writer(myfile, quoting=csv.QUOTE_NONE, lineterminator = '\\n',escapechar='')\n",
    "    \n",
    "    fields = ([\"position (cm)\", \"Electron Temp (KeV)\", \"Ion Temp (KeV)\"])\n",
    "    for i in range(ll):\n",
    "        wr.writerow([(xlistI[ll-1-i]),(TeList[ll-1-i]), (TiList[ll-1-i])])\n",
    "#results        \n",
    "with open('g1_m32_gamma0_half_space.csv', 'w', ) as myfile:\n",
    "    wr = csv.writer(myfile, quoting=csv.QUOTE_NONE, lineterminator = '\\n',escapechar='')\n",
    "    \n",
    "    fields = ([\"position (cm)\", \"Electron Temp (KeV)\", \"Ion Temp (KeV)\"])\n",
    "    for i in range(ll):\n",
    "        wr.writerow([(xlist1[ll-1-i]),(TeList[ll-1-i]), (TiList[ll-1-i])])\n",
    "with open('g10_m32_gamma0_half_space.csv', 'w', ) as myfile:\n",
    "    wr = csv.writer(myfile, quoting=csv.QUOTE_NONE, lineterminator = '\\n',escapechar='')\n",
    "    \n",
    "    fields = ([\"position (cm)\", \"Electron Temp (KeV)\", \"Ion Temp (KeV)\"])\n",
    "    for i in range(ll):\n",
    "        wr.writerow([(xlist2[ll-1-i]),(TeList[ll-1-i]), (TiList[ll-1-i])])\n",
    "with open('g20_m32_gamma0_half_space.csv', 'w', ) as myfile:\n",
    "    wr = csv.writer(myfile, quoting=csv.QUOTE_NONE, lineterminator = '\\n',escapechar='')\n",
    "    \n",
    "    fields = ([\"position (cm)\", \"Electron Temp (KeV)\", \"Ion Temp (KeV)\"])\n",
    "    for i in range(ll):\n",
    "        wr.writerow([(xlist3[ll-1-i]),(TeList[ll-1-i]), (TiList[ll-1-i])])\n",
    "m"
   ]
  }
 ],
 "metadata": {
  "kernelspec": {
   "display_name": "Python 3",
   "language": "python",
   "name": "python3"
  },
  "language_info": {
   "codemirror_mode": {
    "name": "ipython",
    "version": 3
   },
   "file_extension": ".py",
   "mimetype": "text/x-python",
   "name": "python",
   "nbconvert_exporter": "python",
   "pygments_lexer": "ipython3",
   "version": "3.7.3"
  }
 },
 "nbformat": 4,
 "nbformat_minor": 2
}
