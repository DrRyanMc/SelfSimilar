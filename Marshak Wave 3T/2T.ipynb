{
 "cells": [
  {
   "cell_type": "code",
   "execution_count": 11,
   "metadata": {},
   "outputs": [],
   "source": [
    "import numpy as np\n",
    "import matplotlib.pyplot as plt\n",
    "import math\n",
    "from scipy import interpolate\n",
    "from scipy import integrate\n",
    "import time\n",
    "import numpy as np\n",
    "import matplotlib\n",
    "import matplotlib.pyplot as plt\n",
    "from math import sqrt"
   ]
  },
  {
   "cell_type": "markdown",
   "metadata": {},
   "source": [
    "### This notebook gives the Marshak wave solution to the 2T problem"
   ]
  },
  {
   "cell_type": "markdown",
   "metadata": {},
   "source": [
    "### Derive first order form of ODE\n",
    "$$ -\\xi \\frac{d T}{d \\xi} = \\frac{d^2 T^{n+4}}{d \\xi}$$ \n",
    "Now we write the second derivative as \n",
    "$$\\frac{d^2 T^{n+4}}{d \\xi} = (n+4) T(\\xi)^{n+2} \\left((n+3) T'(\\xi)^2+T(\\xi) T''(\\xi)\\right).$$"
   ]
  },
  {
   "cell_type": "markdown",
   "metadata": {},
   "source": [
    "Define $$ u(\\xi) = T'(\\xi),$$ so that\n",
    "$$\\frac{d^2 T^{n+4}}{d \\xi} = (n+4) T(\\xi)^{n+2} \\left((n+3) u^2+T(\\xi) u'(\\xi)\\right).$$"
   ]
  },
  {
   "cell_type": "markdown",
   "metadata": {},
   "source": [
    "This makes the original equation\n",
    "$$ -\\xi u = (n+4) T(\\xi)^{n+2} \\left((n+3) u^2+T(\\xi) u'(\\xi)\\right).$$"
   ]
  },
  {
   "cell_type": "markdown",
   "metadata": {},
   "source": [
    "Rearranging we get\n",
    "$$\n",
    "u' = \\frac{u \\left(-\\frac{x T^{-n}}{n+4}-(n+3) T^2 u\\right)}{T^3}\n",
    "$$"
   ]
  },
  {
   "cell_type": "code",
   "execution_count": 12,
   "metadata": {},
   "outputs": [],
   "source": [
    "g = lambda x, xmax: ((n+3)*xmax*(-x+xmax)/(n+4))**(1/(n+3))\n",
    "gprime = lambda x, xmax: -(((n+3)/(n+4))*xmax)**(1/(n+3))*1/(n+3)*(xmax-x)**((-2-n)/(n+3))"
   ]
  },
  {
   "cell_type": "code",
   "execution_count": 13,
   "metadata": {},
   "outputs": [],
   "source": [
    "#V[0] = T, V[1] = u\n",
    "RHSfun = lambda t,v: np.array([v[1], v[1]*(-v[0]**(-n)*t/(n+4) - (n+3)*v[0]**2*v[1])/(v[0]**3)])"
   ]
  },
  {
   "cell_type": "code",
   "execution_count": 4,
   "metadata": {},
   "outputs": [],
   "source": [
    "n = 3\n",
    "xmax = 1.119\n",
    "tol = 1e-12\n",
    "IC = [g(xmax-tol,xmax),gprime(xmax-tol,xmax)]\n",
    "output = integrate.DOP853(RHSfun, xmax,IC,0)\n",
    "T0 = 1"
   ]
  },
  {
   "cell_type": "markdown",
   "metadata": {},
   "source": [
    "Notes- as T0-> 0, the tolerance must become smaller to get a solution close to T0. As T0->1, the tolerance must relax or the solver gives \"f(a) and f(b) must be different signs"
   ]
  },
  {
   "cell_type": "code",
   "execution_count": 5,
   "metadata": {},
   "outputs": [],
   "source": [
    "\n",
    "opt_fun = lambda xm: integrate.solve_ivp(RHSfun, (xm-tol,0), [g(xm-tol,xm),gprime(xm-tol,xm)], method='DOP853', max_step = 1e-4).y[0][-1] - T0\n"
   ]
  },
  {
   "cell_type": "code",
   "execution_count": 6,
   "metadata": {},
   "outputs": [
    {
     "name": "stdout",
     "output_type": "stream",
     "text": [
      "1.1199354159062904\n"
     ]
    }
   ],
   "source": [
    "from scipy import optimize\n",
    "minval = optimize.brentq(opt_fun, 1.0,1.3)\n",
    "print(minval)"
   ]
  },
  {
   "cell_type": "code",
   "execution_count": 7,
   "metadata": {},
   "outputs": [],
   "source": [
    "sol_marshak = integrate.solve_ivp(RHSfun, (minval-tol,0), IC, method='DOP853', max_step = 1e-4)\n",
    "# plt.plot(sol_marshak.t, sol_marshak.y[0])"
   ]
  },
  {
   "cell_type": "code",
   "execution_count": 8,
   "metadata": {},
   "outputs": [
    {
     "name": "stdout",
     "output_type": "stream",
     "text": [
      "0.9999982087704656\n"
     ]
    }
   ],
   "source": [
    "print(sol_marshak.y[0][-1])"
   ]
  },
  {
   "cell_type": "code",
   "execution_count": 9,
   "metadata": {},
   "outputs": [
    {
     "name": "stdout",
     "output_type": "stream",
     "text": [
      "23.958669823136002\n",
      "0.04674447388664332\n"
     ]
    }
   ],
   "source": [
    "t_final = 1\n",
    "Cv = 0.3\n",
    "c=29.998     #cm/ns\n",
    "a=0.01372\n",
    "kappa0 = 300\n",
    "K = a*c*4/(3*(n+4)*kappa0*Cv*(T0**n))\n",
    "A = sqrt(1/(2*K)) \n",
    "# print(A)\n",
    "# print(minval*z1)"
   ]
  },
  {
   "cell_type": "code",
   "execution_count": 10,
   "metadata": {},
   "outputs": [
    {
     "name": "stdout",
     "output_type": "stream",
     "text": [
      "[1.11993542e+00 1.11993542e+00 1.11993542e+00 ... 1.21812949e-04\n",
      " 2.18129492e-05 0.00000000e+00]\n"
     ]
    },
    {
     "data": {
      "image/png": "[encoded data removed]",
      "text/plain": [
       "<Figure size 432x288 with 1 Axes>"
      ]
     },
     "metadata": {
      "needs_background": "light"
     },
     "output_type": "display_data"
    }
   ],
   "source": [
    "# plt.plot(sol_marshak.t, sol_marshak.y[0])\n",
    "# print(sol_marshak.t)"
   ]
  },
  {
   "cell_type": "code",
   "execution_count": null,
   "metadata": {},
   "outputs": [],
   "source": []
  }
 ],
 "metadata": {
  "kernelspec": {
   "display_name": "Python 3",
   "language": "python",
   "name": "python3"
  },
  "language_info": {
   "codemirror_mode": {
    "name": "ipython",
    "version": 3
   },
   "file_extension": ".py",
   "mimetype": "text/x-python",
   "name": "python",
   "nbconvert_exporter": "python",
   "pygments_lexer": "ipython3",
   "version": "3.7.3"
  }
 },
 "nbformat": 4,
 "nbformat_minor": 2
}
