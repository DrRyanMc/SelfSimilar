{
 "cells": [
  {
   "cell_type": "code",
   "execution_count": 45,
   "metadata": {},
   "outputs": [],
   "source": [
    "import numpy as np\n",
    "import matplotlib.pyplot as plt\n",
    "import math\n",
    "from scipy import interpolate\n",
    "from scipy import integrate\n",
    "import time\n",
    "import numpy as np\n",
    "import matplotlib\n",
    "import matplotlib.pyplot as plt\n",
    "from math import sqrt\n",
    "from math import pi\n",
    "import matplotlib.font_manager as fm\n",
    "import matplotlib.ticker as mtick\n",
    "from matplotlib.ticker import ScalarFormatter\n",
    "from scipy import optimize\n",
    "from labellines import labelLine, labelLines\n",
    "import csv"
   ]
  },
  {
   "cell_type": "code",
   "execution_count": 46,
   "metadata": {},
   "outputs": [],
   "source": [
    "#Gamma function\n",
    "gamma_val = lambda x, xmax: gamma(x,g(x,xmax))\n",
    "gamma0=0\n",
    "gamma = lambda t,Te: gamma0*((Te)**(-m))\n",
    "#initial conditions\n",
    "g = lambda x, xmax: ((n+3)*xmax*(-x+xmax)/(n+4))**(1/(n+3))\n",
    "gprime = lambda x, xmax: -(((n+3)/(n+4))*xmax)**(1/(n+3))*1/(n+3)*(xmax-x)**((-2-n)/(n+3))\n",
    "\n",
    "# IC for time dependent\n",
    "h_hi = g\n",
    "h_low = lambda x, xmax: 1/(Cvi)*gamma_val(x,xmax)*((n+3)/(n+4))*((xmax-x)/(xmax))*((n+3)/(n+4)*xmax*(xmax-x))**(1/(n+3))\n",
    "h=lambda x, xmax: min((h_hi(x,xmax),h_low(x,xmax)))\n",
    "\n",
    "#Space transform IC\n",
    "f=lambda x, xmax:4*gamma_val(x,xmax)*(n+3)*(-xmax+x)*((n+3)*xmax*(-x+xmax)/(n+4))**(1/(n+3))/(Cvi*(n+4)*(2*gamma_val(x,xmax)*xmax**2/Cvi-x**3-4*gamma_val(x,xmax)*x*xmax/Cvi-x**2*xmax+2*gamma_val(x,xmax)*xmax**2/Cvi-x*xmax-xmax**3))\n",
    "\n"
   ]
  },
  {
   "cell_type": "code",
   "execution_count": 47,
   "metadata": {},
   "outputs": [],
   "source": [
    "#Vector functions for solving eq's 1-2 and 2-3\n",
    "#v[0] = Te, v[1] = u, v[2] = Ti\n",
    "def RHS_time(t,v,gamma):\n",
    "    Te = v[0]\n",
    "    Ti = v[2]\n",
    "    gamma_val = gamma(t,Te)\n",
    "    result = np.zeros(3)\n",
    "    #compute RHS\n",
    "    result[0] = v[1]\n",
    "    result[1] = ((-t*v[1] - 1/(Cve)*gamma_val*(v[2]-v[0]))*(v[0]**(-n))-(n+4)*(n+3)*(v[1]**2)*(v[0]**2))/((n+4)*v[0]**3)\n",
    "    result[2] = gamma_val/(Cvi*t)*(v[2]-v[0])\n",
    "    return result\n",
    "\n",
    "# Space dependent gamma\n",
    "def RHS_space(t,v,gamma):\n",
    "    Te = v[0]\n",
    "    Ti = v[2]\n",
    "    gamma_val = gamma(t,Te)\n",
    "    result = np.zeros(3)\n",
    "    #compute RHS\n",
    "    result[0] = v[1]\n",
    "    #result[1] = ((-t*v[1] - (gamma_val*A**2)/(rho*Cve)*(1/t**2)*(v[2]-v[0]))*(v[0]**(-n))/((n+4))-(n+3)*(v[1]**2)*(v[0]**2))/(v[0]**3)\n",
    "    result[1] = (-t*v[1]*v[0]**(-n)-gamma_val/(Cve*t**2)*v[0]**(-n)*(v[2]-v[0])-(n+3)*(n+4)*v[1]**2*v[0]**2)/((n+4)*v[0]**3)\n",
    "    result[2] = (gamma_val)/(Cvi*t**3)*(v[2]-v[0])\n",
    "    return result\n"
   ]
  },
  {
   "cell_type": "code",
   "execution_count": 48,
   "metadata": {},
   "outputs": [],
   "source": [
    "RHSfun_time = lambda t,v: RHS_time(t,v,gamma)\n",
    "RHSfun_space = lambda t,v: RHS_space(t,v,gamma)\n"
   ]
  }
 ],
 "metadata": {
  "kernelspec": {
   "display_name": "Python 3",
   "language": "python",
   "name": "python3"
  },
  "language_info": {
   "codemirror_mode": {
    "name": "ipython",
    "version": 3
   },
   "file_extension": ".py",
   "mimetype": "text/x-python",
   "name": "python",
   "nbconvert_exporter": "python",
   "pygments_lexer": "ipython3",
   "version": "3.7.3"
  }
 },
 "nbformat": 4,
 "nbformat_minor": 2
}
