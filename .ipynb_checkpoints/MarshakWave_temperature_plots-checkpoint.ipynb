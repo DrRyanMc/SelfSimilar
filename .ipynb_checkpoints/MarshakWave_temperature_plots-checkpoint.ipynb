{
 "cells": [
  {
   "cell_type": "markdown",
   "metadata": {},
   "source": [
    "### This notebook plots temperature fronts for a few $gamma_0$ values with m=0 and m=3/2 for the time and space dependent cases.\n"
   ]
  },
  {
   "cell_type": "code",
   "execution_count": 3,
   "metadata": {},
   "outputs": [],
   "source": [
    "import numpy as np\n",
    "import matplotlib.pyplot as plt\n",
    "import math\n",
    "from scipy import interpolate\n",
    "from scipy import integrate\n",
    "import time\n",
    "import numpy as np\n",
    "import matplotlib\n",
    "import matplotlib.pyplot as plt\n",
    "from math import sqrt\n",
    "from math import pi\n",
    "import matplotlib.font_manager as fm\n",
    "import matplotlib.ticker as mtick\n",
    "from matplotlib.ticker import ScalarFormatter\n",
    "from scipy import optimize\n",
    "from labellines import labelLine, labelLines\n",
    "import csv"
   ]
  },
  {
   "cell_type": "markdown",
   "metadata": {},
   "source": [
    "### Import initial conditions"
   ]
  },
  {
   "cell_type": "code",
   "execution_count": 4,
   "metadata": {},
   "outputs": [],
   "source": [
    "#Import show() function for plotting \n",
    "%run C:\\Users\\wbenn/Marshak_Wave_Scripts/Marshak_3T/SelfSimilar_main/show.ipynb\n",
    "#Import initial conditions\n",
    "%run C:\\Users\\wbenn/Marshak_Wave_Scripts/Marshak_3T/SelfSimilar_main/initial_conditions.ipynb"
   ]
  },
  {
   "cell_type": "markdown",
   "metadata": {},
   "source": [
    "### Define constants "
   ]
  },
  {
   "cell_type": "code",
   "execution_count": 5,
   "metadata": {},
   "outputs": [],
   "source": [
    "n = 3\n",
    "T0=1\n",
    "c=29.9792458\n",
    "a=0.01372\n",
    "kappa0=100\n",
    "xmax=1.2\n",
    "rho = 3.0\n",
    "Cve=0.1*rho\n",
    "Cvi=.05*rho\n",
    "alpha = a*c*4*T0**(-n)/(3*(n+4)*kappa0*Cve)\n",
    "A = sqrt(1/(2*alpha))\n",
    "tol = 1e-12\n",
    "gamma0=0\n",
    "m=0\n",
    "ICt = [g(xmax-tol,xmax),gprime(xmax-tol,xmax), h(xmax-tol,xmax)]\n",
    "ICs = [g(xmax-tol,xmax),gprime(xmax-tol,xmax), f(xmax-tol,xmax)]"
   ]
  },
  {
   "cell_type": "markdown",
   "metadata": {},
   "source": [
    "### Optimization functions to find ximax"
   ]
  },
  {
   "cell_type": "code",
   "execution_count": 6,
   "metadata": {},
   "outputs": [],
   "source": [
    "#Time dependent optimize functions\n",
    "#using BDF to solve time dependent eqs 1,2\n",
    "opt_fun_BDF_time = lambda xm: integrate.solve_ivp(RHSfun_time, (xm-tol,1e-10), [g(xm-tol,xm),gprime(xm-tol,xm), h(xm-tol,xm)], \n",
    "                                         method='BDF', max_step = 1e-4).y[0][-1] - 1\n",
    "#Using DOP853 to solve time dependent\n",
    "opt_fun_DOP_time = lambda xm: integrate.solve_ivp(RHSfun_time, (xm-tol,0), [g(xm-tol,xm),gprime(xm-tol,xm), h(xm-tol,xm)], \n",
    "                                         method='DOP853', max_step = 1e-4).y[0][-1] - 1\n",
    "#Space dependent(BDF) eqs 2,3\n",
    "opt_fun_BDF_space = lambda xm: integrate.solve_ivp(RHSfun_space, (xm-tol,1e-10), [g(xm-tol,xm),gprime(xm-tol,xm), f(xm-tol,xm)], \n",
    "                                         method='BDF', max_step = 1e-4).y[0][-1] - 1"
   ]
  },
  {
   "cell_type": "markdown",
   "metadata": {},
   "source": [
    "### Plots"
   ]
  },
  {
   "cell_type": "code",
   "execution_count": 7,
   "metadata": {},
   "outputs": [],
   "source": [
    "# pick gamma0 values to plot#Plots\n",
    "gamma0_list = [0,.05,0.5]\n",
    "I = len(gamma0_list)\n",
    "#colors for plotting\n",
    "cmap = plt.get_cmap(\"tab10\")"
   ]
  },
  {
   "cell_type": "markdown",
   "metadata": {},
   "source": [
    "### Time dependent $\\gamma_0$ plots"
   ]
  },
  {
   "cell_type": "markdown",
   "metadata": {},
   "source": [
    "### m=3/2"
   ]
  },
  {
   "cell_type": "code",
   "execution_count": null,
   "metadata": {},
   "outputs": [
    {
     "name": "stderr",
     "output_type": "stream",
     "text": [
      "C:\\Users\\wbenn\\Anaconda3\\lib\\site-packages\\ipykernel_launcher.py:11: RuntimeWarning: invalid value encountered in double_scalars\n",
      "  # This is added back by InteractiveShellApp.init_path()\n"
     ]
    }
   ],
   "source": [
    "#Plot of time dependent with sample gamma0 values, m = 3/2\n",
    "plt.figure(1)\n",
    "m=3/2\n",
    "ax=plt.gca()\n",
    "for j in range(I):\n",
    "    gamma0=gamma0_list[j]\n",
    "    minval = optimize.brentq(opt_fun_DOP_time, .8,1.2)\n",
    "    print(minval)\n",
    "    sol = integrate.solve_ivp(RHSfun_time, (minval-tol,0), ICt, method='DOP853', max_step = 1e-4)\n",
    "    X=[minval]\n",
    "    Y1=[0]\n",
    "    Y2=[0]\n",
    "    for i in range(len(sol.t)):\n",
    "        X.append(sol.t[i])\n",
    "        Y1.append(sol.y[0][i])\n",
    "        Y2.append(sol.y[2][i])\n",
    "    plt.plot(X, Y1, label=r\"K=%.2f\" %(gamma0), c = cmap(j))\n",
    "    plt.plot(X, Y2,'--', c = cmap(j))\n",
    "    \n",
    "ax.text(.9,.4,r'$\\gamma_0=0.5$',horizontalalignment='center', verticalalignment='center',rotation=270,fontsize = 12,c=cmap(2))\n",
    "ax.text(1,.2,r'$\\gamma_0=0.05$',horizontalalignment='center', verticalalignment='center',rotation=270,fontsize = 12,c=cmap(1))\n",
    "ax.text(1.15,.2,r'$\\gamma_0=0$',horizontalalignment='center', verticalalignment='center',rotation=270,fontsize = 12,c=cmap(0))\n",
    "\n",
    "plt.xlabel(r\"Normalized Distance $\\xi$\")\n",
    "plt.ylabel(\"Normalized Temperature\")\n",
    "#plt.title(r\"Time Dependent $\\gamma$ m=3/2\")\n",
    "\n",
    "show(\"timedependentm=1.5\")\n"
   ]
  },
  {
   "cell_type": "markdown",
   "metadata": {},
   "source": [
    "### m=0"
   ]
  },
  {
   "cell_type": "code",
   "execution_count": null,
   "metadata": {},
   "outputs": [],
   "source": [
    "plt.figure(2)\n",
    "ax=plt.gca()\n",
    "m=0\n",
    "ax=plt.gca()\n",
    "for j in range(I):\n",
    "    gamma0=gamma0_list[j]\n",
    "    minval = optimize.brentq(opt_fun_DOP_time, .8,1.2)\n",
    "    print(minval)\n",
    "    sol = integrate.solve_ivp(RHSfun_time, (minval-tol,0), ICt, method='DOP853', max_step = 1e-4)\n",
    "    X=[minval]\n",
    "    Y1=[0]\n",
    "    Y2=[0]\n",
    "    for i in range(len(sol.t)):\n",
    "        X.append(sol.t[i])\n",
    "        Y1.append(sol.y[0][i])\n",
    "        Y2.append(sol.y[2][i])\n",
    "    plt.plot(X, Y1, label=r\"K=%.2f\" %(gamma0), c = cmap(j))\n",
    "    plt.plot(X, Y2,'--', c = cmap(j))\n",
    "    \n",
    "ax.text(.9,.4,r'$\\gamma_0=0.5$',horizontalalignment='center', verticalalignment='center',rotation=270,fontsize = 12,c=cmap(2))\n",
    "ax.text(1.03,.2,r'$\\gamma_0=0.05$',horizontalalignment='center', verticalalignment='center',rotation=270,fontsize = 12,c=cmap(1))\n",
    "ax.text(1.15,.2,r'$\\gamma_0=0$',horizontalalignment='center', verticalalignment='center',rotation=270,fontsize = 12,c=cmap(0))\n",
    "\n",
    "plt.xlabel(r\"Normalized Distance $\\xi$\")\n",
    "plt.ylabel(\"Normalized Temperature\")\n",
    "show(\"timedependentm=0\")"
   ]
  },
  {
   "cell_type": "markdown",
   "metadata": {},
   "source": [
    "### Space dependent $\\gamma_0$ plots "
   ]
  },
  {
   "cell_type": "markdown",
   "metadata": {},
   "source": [
    "### m=3/2"
   ]
  },
  {
   "cell_type": "code",
   "execution_count": null,
   "metadata": {},
   "outputs": [],
   "source": [
    "#Plot of space dependent with sample K values\n",
    "plt.figure(3)\n",
    "m=3/2\n",
    "ax=plt.gca()\n",
    "for j in range(I):\n",
    "    gamma0=gamma0_list[j]\n",
    "    minval = optimize.brentq(opt_fun_BDF_space, .8,1.2)\n",
    "    print(minval)\n",
    "    sol = integrate.solve_ivp(RHSfun_space, (minval-tol,1e-10), ICs, method='BDF', max_step = 1e-4)\n",
    "    X=[minval]\n",
    "    Y1=[0]\n",
    "    Y2=[0]\n",
    "    for i in range(len(sol.t)):\n",
    "        X.append(sol.t[i])\n",
    "        Y1.append(sol.y[0][i])\n",
    "        Y2.append(sol.y[2][i])\n",
    "    plt.plot(X, Y1, label=r\"K=%.2f\" %(gamma0), c = cmap(j))\n",
    "    plt.plot(X, Y2,'--', c = cmap(j))\n",
    "ax.text(.89,.45,r'$\\gamma_0=0.5$',horizontalalignment='center', verticalalignment='center',rotation=270,fontsize = 12,c=cmap(2))\n",
    "ax.text(1,.2,r'$\\gamma_0=0.05$',horizontalalignment='center', verticalalignment='center',rotation=270,fontsize = 12,c=cmap(1))\n",
    "ax.text(1.15,.2,r'$\\gamma_0=0$',horizontalalignment='center', verticalalignment='center',rotation=270,fontsize = 12,c=cmap(0))\n",
    "plt.xlabel(r\"Normalized Distance $\\xi$\")\n",
    "plt.ylabel(\"Normalized Temperature\")\n",
    "#plt.title(r\"Space Dependent $\\gamma$ m=3/2\")\n",
    "\n",
    "show(\"spacedependent_m=1.5\")"
   ]
  },
  {
   "cell_type": "markdown",
   "metadata": {},
   "source": [
    "### m =0"
   ]
  },
  {
   "cell_type": "code",
   "execution_count": null,
   "metadata": {},
   "outputs": [],
   "source": [
    "plt.figure(4)\n",
    "m=0\n",
    "ax=plt.gca()\n",
    "for j in range(I):\n",
    "    gamma0=gamma0_list[j]\n",
    "    minval = optimize.brentq(opt_fun_BDF_space, .8,1.2)\n",
    "    print(minval)\n",
    "    sol = integrate.solve_ivp(RHSfun_space, (minval-tol,1e-10), ICs, method='BDF', max_step = 1e-4)\n",
    "    X=[minval]\n",
    "    Y1=[0]\n",
    "    Y2=[0]\n",
    "    for i in range(len(sol.t)):\n",
    "        X.append(sol.t[i])\n",
    "        Y1.append(sol.y[0][i])\n",
    "        Y2.append(sol.y[2][i])\n",
    "    plt.plot(X, Y1, label=r\"K=%.2f\" %(gamma0), c = cmap(j))\n",
    "    plt.plot(X, Y2,'--', c = cmap(j))\n",
    "ax.text(.9,.4,r'$\\gamma_0=0.5$',horizontalalignment='center', verticalalignment='center',rotation=270,fontsize = 12,c=cmap(2))\n",
    "ax.text(1.08,.2,r'$\\gamma_=0.05$',horizontalalignment='center', verticalalignment='center',rotation=270,fontsize = 12,c=cmap(1))\n",
    "ax.text(1.15,.2,r'$\\gamma_0=0$',horizontalalignment='center', verticalalignment='center',rotation=270,fontsize = 12,c=cmap(0))\n",
    "plt.xlabel(r\"Normalized Distance $\\xi$\")\n",
    "plt.ylabel(\"Normalized Temperature\")\n",
    "#plt.title(r\"Space Dependent $\\gamma$ m=0\")\n",
    "\n",
    "show(\"spacedependent_m=0\")"
   ]
  }
 ],
 "metadata": {
  "kernelspec": {
   "display_name": "Python 3",
   "language": "python",
   "name": "python3"
  },
  "language_info": {
   "codemirror_mode": {
    "name": "ipython",
    "version": 3
   },
   "file_extension": ".py",
   "mimetype": "text/x-python",
   "name": "python",
   "nbconvert_exporter": "python",
   "pygments_lexer": "ipython3",
   "version": "3.7.3"
  }
 },
 "nbformat": 4,
 "nbformat_minor": 2
}
