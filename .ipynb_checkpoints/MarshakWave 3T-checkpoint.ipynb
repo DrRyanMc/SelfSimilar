{
 "cells": [
  {
   "cell_type": "code",
   "execution_count": 2,
   "metadata": {},
   "outputs": [],
   "source": [
    "import numpy as np\n",
    "import matplotlib.pyplot as plt\n",
    "import math\n",
    "from scipy import interpolate\n",
    "from scipy import integrate\n",
    "import time\n",
    "import numpy as np\n",
    "import matplotlib\n",
    "import matplotlib.pyplot as plt\n",
    "from math import sqrt\n",
    "from math import pi\n",
    "import matplotlib.font_manager as fm\n",
    "import matplotlib.ticker as mtick\n",
    "from matplotlib.ticker import ScalarFormatter\n",
    "from scipy import optimize\n",
    "from labellines import labelLine, labelLines\n",
    "import csv"
   ]
  },
  {
   "cell_type": "code",
   "execution_count": 3,
   "metadata": {},
   "outputs": [],
   "source": [
    "#Import show() function for plotting \n",
    "%run C:\\Users\\wbenn/Marshak_Wave_Scripts/Marshak_3T/SelfSimilar_main/show.ipynb\n",
    "#Import initial conditions\n",
    "%run C:\\Users\\wbenn/Marshak_Wave_Scripts/Marshak_3T/SelfSimilar_main/initial_conditions.ipynb"
   ]
  },
  {
   "cell_type": "code",
   "execution_count": 4,
   "metadata": {},
   "outputs": [],
   "source": [
    "c=29.998    # speed of light \n",
    "a=0.01372   # radiation constant "
   ]
  },
  {
   "cell_type": "markdown",
   "metadata": {},
   "source": [
    "## Governing equations\n",
    "This notebook produces self-similar solutions for the system\n",
    "$$[1]\\qquad \\frac{\\partial T_e} {\\partial t} = \\alpha \\frac{\\partial^2}{\\partial x^2} T_e^{n+4} + \\frac{\\gamma}{C_{\\mathrm{ve}}} (T_i - T_e),$$\n",
    "$$[2]\\qquad \\frac{\\partial T_i}{\\partial t} = -\\frac{\\gamma}{C_{\\mathrm{vi}}}(T_i-T_e),$$\n",
    "where $\\alpha = \\frac{ac}{3} \\frac{4}{n+4} \\frac{T_0^{-n}}{\\kappa_0 C_\\mathrm{ve}}.$\n",
    "$T_e$ is electron temperature (keV). $T_i$ is ion temperature (keV). $x$ is the spatial variable (cm). $t$ is the time variable (ns). $C_{\\mathrm{ve}}$ and $C_{\\mathrm{vi}}$ are the electron and ion heat capacities at constant volume respectively $\\left(\\frac{\\mathrm{GJ}}{\\mathrm{cm}^{3}\\mathrm{keV}}\\right)$. $\\gamma$ is the electron-ion coupling coefficient $\\left(\\frac{\\mathrm{GJ}}{\\mathrm{keV}\\mathrm{cm}^3\\mathrm{ns}}\\right)$. $a = 4 \\sigma_\\mathrm{SB}/c$ is the radiation constant $\\left(\\frac{\\mathrm{GJ}}{\\mathrm{cm}^3\\mathrm{keV}^4}\\right)$. $c$ is the speed of light $\\left(\\frac{cm}{ns}\\right)$. $\\kappa_0$ is a constant (cm$^{-1}$). $n$ is a parameter that governs the dependence of the radiation opacity on the electron temperature."
   ]
  },
  {
   "cell_type": "markdown",
   "metadata": {},
   "source": [
    "## Similarity transform\n",
    "With the transform,\n",
    "$$\\xi = A \\frac{x}{\\sqrt{t}},$$\n",
    "$$  \\gamma(x,t,T_\\mathrm{e}) = \\gamma_0 T_\\mathrm{e}^{-m} f(x,t),$$\n",
    "where $A=\\frac{1}{\\sqrt{2\\alpha}}$, $m$ is a parameter that may be either 0 or $\\frac{3}{2}$, and $f(x,t)$ is a known function, the governing equations become,\n",
    "### Time dependent case: $f(x,t) = \\frac{1}{2t}$\n",
    "$$[3]\\qquad -\\xi \\frac{dT_e}{d\\xi} = \\frac{d^2 T_e^{n+4}}{d\\xi^2} +  \\frac{\\gamma_0}{C_{\\mathrm{ve}}}T_{\\mathrm{e}}^{-m} (T_i-T_e)$$\n",
    "$$[4] \\qquad-\\xi \\frac{dT_i}{d\\xi} = -\\frac{\\gamma_0}{ C_{\\mathrm{vi}}} T_{\\mathrm{e}}^{-m}(T_i-T_e)$$\n",
    "or\n",
    "### Space dependent case $f(x,t) = \\frac{1}{2A^2x^2}$\n",
    "$$[5] \\qquad -\\xi \\frac{dT_e}{d\\xi} = \\frac{d^2 T_e^{n+4}}{d\\xi^2} +\\frac{\\gamma_0}{ C_{\\mathrm{ve}}\\xi^2} T_{\\mathrm{e}}^{-m} (T_i-T_e) $$\n",
    "$$[6] -\\xi \\frac{dT_i}{d\\xi} = -\\frac{\\gamma_0}{ C_{\\mathrm{vi}} \\xi^2} T_{\\mathrm{e}}^{-m}(T_i-T_e)$$"
   ]
  },
  {
   "cell_type": "markdown",
   "metadata": {},
   "source": [
    "## Problem parameters\n",
    "If $\\gamma_0=0,$ the solution will be 2T.\n",
    "If $\\gamma_0$ is nonzero, $m$ will determine whether the coupling coefficient is dependent on $T_e$.\n",
    "For all cases, $n$ may be either 0 or 3."
   ]
  },
  {
   "cell_type": "code",
   "execution_count": 19,
   "metadata": {},
   "outputs": [],
   "source": [
    "gamma0 = 0.5    #for the 2T solution, set gamma0 to 0\n",
    "m=3/2             # 3/2 if coupling is temperature dependent, 0 otherwise \n",
    "n = 3           # opacity temperature dependence\n",
    "T0=1            # reference temperature\n",
    "kappa0=300      # opacity \n",
    "Cve=0.3         # electron specific heat\n",
    "Cvi=.15         # ion specific heat \n",
    "alpha= a*c*4/(3*(n+4)*kappa0*Cve*(T0**n))\n",
    "A = sqrt(1/(2*alpha))\n",
    "tol = 1e-12     # distance behind the wavefront to start integrating \n",
    "xmax=1.2          # guess for the wavefront \n",
    "step=1e-4       # max timestep for solver\n",
    "ICt = [g(xmax-tol,xmax),gprime(xmax-tol,xmax), h(xmax-tol,xmax)] # initial condition for eqs 3,4\n",
    "ICs = [g(xmax-tol,xmax),gprime(xmax-tol,xmax), f(xmax-tol,xmax)] # initial condition for eqs 5,6"
   ]
  },
  {
   "cell_type": "code",
   "execution_count": 20,
   "metadata": {},
   "outputs": [],
   "source": [
    "# load analytic 2T solution (default n is 3)\n",
    "if gamma0 ==0:\n",
    "    %run C:\\Users\\wbenn/Documents/GitHub/SelfSimilar/2T.ipynb"
   ]
  },
  {
   "cell_type": "markdown",
   "metadata": {},
   "source": [
    "### Optimize functions to find wavefront, $\\xi_{\\mathrm{max}}$"
   ]
  },
  {
   "cell_type": "code",
   "execution_count": 21,
   "metadata": {},
   "outputs": [],
   "source": [
    "#Time dependent optimize functions\n",
    "#using BDF to solve time dependent eqs 3,4\n",
    "opt_fun_BDF_time = lambda xm: integrate.solve_ivp(RHSfun_time, (xm-tol,1e-10), [g(xm-tol,xm),gprime(xm-tol,xm), h(xm-tol,xm)], \n",
    "                                         method='BDF', max_step = step).y[0][-1] - 1\n",
    "#Using DOP853 to solve time dependent eqs 3,4\n",
    "opt_fun_DOP_time = lambda xm: integrate.solve_ivp(RHSfun_time, (xm-tol,0), [g(xm-tol,xm),gprime(xm-tol,xm), h(xm-tol,xm)], \n",
    "                                         method='DOP853', max_step = step).y[0][-1] - 1\n",
    "#using BDF to solve space dependent eqs 5,6\n",
    "opt_fun_BDF_space = lambda xm: integrate.solve_ivp(RHSfun_space, (xm-tol,1e-10), [g(xm-tol,xm),gprime(xm-tol,xm), f(xm-tol,xm)], \n",
    "                                         method='BDF', max_step = step).y[0][-1] - 1\n",
    "# DOP853 does not work well for the space dependent case "
   ]
  },
  {
   "cell_type": "markdown",
   "metadata": {},
   "source": [
    "### Plot solution "
   ]
  },
  {
   "cell_type": "code",
   "execution_count": 22,
   "metadata": {},
   "outputs": [
    {
     "name": "stderr",
     "output_type": "stream",
     "text": [
      "C:\\Users\\wbenn\\Anaconda3\\lib\\site-packages\\ipykernel_launcher.py:4: RuntimeWarning: invalid value encountered in double_scalars\n",
      "  after removing the cwd from sys.path.\n"
     ]
    },
    {
     "data": {
      "image/png": "[encoded data removed]",
      "text/plain": [
       "<Figure size 432x288 with 1 Axes>"
      ]
     },
     "metadata": {
      "needs_background": "light"
     },
     "output_type": "display_data"
    },
    {
     "data": {
      "image/png": "[encoded data removed]",
      "text/plain": [
       "<Figure size 432x288 with 1 Axes>"
      ]
     },
     "metadata": {
      "needs_background": "light"
     },
     "output_type": "display_data"
    }
   ],
   "source": [
    "minval_time = optimize.brentq(opt_fun_BDF_time, .8,1.2)   # error if the wavefront is not between the two arguments of optimize_brentq\n",
    "time_sol = integrate.solve_ivp(RHSfun_time, (minval_time-tol,1e-4), ICt, method='BDF', max_step = step)\n",
    "minval_space = optimize.brentq(opt_fun_BDF_space, .8,1.2)\n",
    "space_sol = integrate.solve_ivp(RHSfun_space, (minval_space-tol,1e-4), ICs, method='BDF', max_step = step)\n",
    "if gamma0 !=0:\n",
    "    plt.plot(time_sol.t,time_sol.y[0],label=\"Te\")\n",
    "    plt.plot(time_sol.t,time_sol.y[2],label = \"Ti\")\n",
    "    plt.legend()\n",
    "    plt.title(\"Time dependent $\\gamma_0$\")\n",
    "    plt.show()\n",
    "    plt.plot(space_sol.t,space_sol.y[0],label=\"Te\")\n",
    "    plt.plot(space_sol.t,space_sol.y[2],label = \"Ti\")\n",
    "    plt.legend()\n",
    "    plt.title(\"space dependent $\\gamma_0$\")\n",
    "    plt.show()\n",
    "else:\n",
    "    sol_2Tx = sol_marshak.t\n",
    "    sol_2Ty = sol_marshak.y[0]\n",
    "    plt.plot(sol_2Tx,sol_2Ty,label=\"analytic solution\")\n",
    "    plt.plot(time_sol.t,time_sol.y[0],\"-.\",label =\"Time dependent $\\gamma_0$\")\n",
    "    plt.plot(space_sol.t,space_sol.y[0],\"-.\",label =\"Space dependent $\\gamma_0$\")\n",
    "    plt.legend()\n",
    "    plt.title(\"2T Solution\")\n",
    "    plt.show()\n",
    "\n",
    "    "
   ]
  },
  {
   "cell_type": "markdown",
   "metadata": {},
   "source": [
    "### Output results for numerical code verification"
   ]
  },
  {
   "cell_type": "markdown",
   "metadata": {},
   "source": [
    "#### Time dependent case"
   ]
  },
  {
   "cell_type": "code",
   "execution_count": 23,
   "metadata": {},
   "outputs": [
    {
     "name": "stdout",
     "output_type": "stream",
     "text": [
      "0.9608119072189362\n"
     ]
    },
    {
     "data": {
      "image/png": "[encoded data removed]",
      "text/plain": [
       "<Figure size 432x288 with 1 Axes>"
      ]
     },
     "metadata": {
      "needs_background": "light"
     },
     "output_type": "display_data"
    }
   ],
   "source": [
    "minval = optimize.brentq(opt_fun_BDF_time, .8,1.2)\n",
    "print(minval)\n",
    "sol = integrate.solve_ivp(RHSfun_time, (minval-tol,1e-14), ICt, method='BDF', max_step = step)\n",
    "\n",
    "#choose initial and final times\n",
    "# 1 shake = 10 ns\n",
    "tau_i=1e-12\n",
    "tau_1=1\n",
    "tau_2=10\n",
    "tau_3=20\n",
    "\n",
    "z1=sqrt(tau_i)/A\n",
    "z2=sqrt(tau_1)/A\n",
    "z3 =sqrt(tau_2)/A\n",
    "z4 = sqrt(tau_3)/A\n",
    "ll = len(sol.t)\n",
    "\n",
    "TeList=np.ndarray.tolist(sol.y[0])\n",
    "TiList=np.ndarray.tolist(sol.y[2])\n",
    "\n",
    "xlistI=np.ndarray.tolist(sol.t*z1)\n",
    "xlist1=np.ndarray.tolist(sol.t*z2)\n",
    "xlist2=np.ndarray.tolist(sol.t*z3)\n",
    "xlist3=np.ndarray.tolist(sol.t*z4)\n",
    "\n",
    "#plot solution\n",
    "plt.plot(sol.t,sol.y[0],label=\"Te\")\n",
    "plt.plot(sol.t,sol.y[2],label = \"Ti\")\n",
    "plt.xlabel(r\"Normalized Distance $\\xi$\")\n",
    "plt.ylabel(\"Normalized Temperature\")\n",
    "plt.legend()\n",
    "# show(\"test\")\n",
    "\n",
    "# Write results to csv files \n",
    "#Initial condition\n",
    "with open('g1e-12_m32_gamma0_half_time.csv', 'w', ) as myfile:\n",
    "    wr = csv.writer(myfile, quoting=csv.QUOTE_NONE, lineterminator = '\\n',escapechar='')\n",
    "    \n",
    "    fields = ([\"position (cm)\", \"Electron Temp (KeV)\", \"Ion Temp (KeV)\"])\n",
    "    for i in range(ll):\n",
    "        wr.writerow([(xlistI[ll-1-i]),(TeList[ll-1-i]), (TiList[ll-1-i])])\n",
    "#results        \n",
    "with open('g1_m32_gamma0_half_time.csv', 'w', ) as myfile:\n",
    "    wr = csv.writer(myfile, quoting=csv.QUOTE_NONE, lineterminator = '\\n',escapechar='')\n",
    "    \n",
    "    fields = ([\"position (cm)\", \"Electron Temp (keV)\", \"Ion Temp (keV)\"])\n",
    "    for i in range(ll):\n",
    "        wr.writerow([(xlist1[ll-1-i]),(TeList[ll-1-i]), (TiList[ll-1-i])])\n",
    "with open('g10_m32_gamma0_half_time.csv', 'w', ) as myfile:\n",
    "    wr = csv.writer(myfile, quoting=csv.QUOTE_NONE, lineterminator = '\\n',escapechar='')\n",
    "    \n",
    "    fields = ([\"position (cm)\", \"Electron Temp (keV)\", \"Ion Temp (keV)\"])\n",
    "    for i in range(ll):\n",
    "        wr.writerow([(xlist2[ll-1-i]),(TeList[ll-1-i]), (TiList[ll-1-i])])\n",
    "with open('g20_m32_gamma0_half_time.csv', 'w', ) as myfile:\n",
    "    wr = csv.writer(myfile, quoting=csv.QUOTE_NONE, lineterminator = '\\n',escapechar='')\n",
    "    \n",
    "    fields = ([\"position (cm)\", \"Electron Temp (keV)\", \"Ion Temp (keV)\"])\n",
    "    for i in range(ll):\n",
    "        wr.writerow([(xlist3[ll-1-i]),(TeList[ll-1-i]), (TiList[ll-1-i])])"
   ]
  },
  {
   "cell_type": "code",
   "execution_count": 24,
   "metadata": {},
   "outputs": [
    {
     "name": "stdout",
     "output_type": "stream",
     "text": [
      "1.0004138525858524 1e-14\n"
     ]
    }
   ],
   "source": [
    "### Check solution at x,t=0 \n",
    "print(sol.y[0][-1],sol.t[-1])"
   ]
  },
  {
   "cell_type": "markdown",
   "metadata": {},
   "source": [
    "#### Space Dependent case \n"
   ]
  },
  {
   "cell_type": "code",
   "execution_count": 25,
   "metadata": {},
   "outputs": [
    {
     "name": "stderr",
     "output_type": "stream",
     "text": [
      "C:\\Users\\wbenn\\Anaconda3\\lib\\site-packages\\ipykernel_launcher.py:4: RuntimeWarning: invalid value encountered in double_scalars\n",
      "  after removing the cwd from sys.path.\n"
     ]
    },
    {
     "name": "stdout",
     "output_type": "stream",
     "text": [
      "0.9479170792509175\n"
     ]
    },
    {
     "data": {
      "image/png": "[encoded data removed]",
      "text/plain": [
       "<Figure size 432x288 with 1 Axes>"
      ]
     },
     "metadata": {
      "needs_background": "light"
     },
     "output_type": "display_data"
    }
   ],
   "source": [
    "minval = optimize.brentq(opt_fun_BDF_space, .8,1.2)\n",
    "print(minval)\n",
    "sol = integrate.solve_ivp(RHSfun_space, (minval-tol,1e-12), ICs, method='BDF', max_step = 1e-4)\n",
    "\n",
    "#choose initial and final times\n",
    "# 1 shake = 10 ns\n",
    "tau_i=1e-12\n",
    "tau_1=1\n",
    "tau_2=10\n",
    "tau_3=20\n",
    "\n",
    "z1=sqrt(tau_i)/A\n",
    "z2=sqrt(tau_1)/A\n",
    "z3 =sqrt(tau_2)/A\n",
    "z4 = sqrt(tau_3)/A\n",
    "ll = len(sol.t)\n",
    "\n",
    "TeList=np.ndarray.tolist(sol.y[0])\n",
    "TiList=np.ndarray.tolist(sol.y[2])\n",
    "\n",
    "xlistI=np.ndarray.tolist(sol.t*z1)\n",
    "xlist1=np.ndarray.tolist(sol.t*z2)\n",
    "xlist2=np.ndarray.tolist(sol.t*z3)\n",
    "xlist3=np.ndarray.tolist(sol.t*z4)\n",
    "\n",
    "#plot solution\n",
    "plt.plot(sol.t,sol.y[0],label=\"Te\")\n",
    "plt.plot(sol.t,sol.y[2],label = \"Ti\")\n",
    "plt.xlabel(r\"Normalized Distance $\\xi$\")\n",
    "plt.ylabel(\"Normalized Temperature\")\n",
    "plt.legend()\n",
    "# show(\"test\")\n",
    "\n",
    "# Write results to csv files \n",
    "#Initial condition\n",
    "with open('g1e-12_m32_gamma0_half_space.csv', 'w', ) as myfile:\n",
    "    wr = csv.writer(myfile, quoting=csv.QUOTE_NONE, lineterminator = '\\n',escapechar='')\n",
    "    \n",
    "    fields = ([\"position (cm)\", \"Electron Temp (KeV)\", \"Ion Temp (KeV)\"])\n",
    "    for i in range(ll):\n",
    "        wr.writerow([(xlistI[ll-1-i]),(TeList[ll-1-i]), (TiList[ll-1-i])])\n",
    "#results        \n",
    "with open('g1_m32_gamma0_half_space.csv', 'w', ) as myfile:\n",
    "    wr = csv.writer(myfile, quoting=csv.QUOTE_NONE, lineterminator = '\\n',escapechar='')\n",
    "    \n",
    "    fields = ([\"position (cm)\", \"Electron Temp (KeV)\", \"Ion Temp (KeV)\"])\n",
    "    for i in range(ll):\n",
    "        wr.writerow([(xlist1[ll-1-i]),(TeList[ll-1-i]), (TiList[ll-1-i])])\n",
    "with open('g10_m32_gamma0_half_space.csv', 'w', ) as myfile:\n",
    "    wr = csv.writer(myfile, quoting=csv.QUOTE_NONE, lineterminator = '\\n',escapechar='')\n",
    "    \n",
    "    fields = ([\"position (cm)\", \"Electron Temp (KeV)\", \"Ion Temp (KeV)\"])\n",
    "    for i in range(ll):\n",
    "        wr.writerow([(xlist2[ll-1-i]),(TeList[ll-1-i]), (TiList[ll-1-i])])\n",
    "with open('g20_m32_gamma0_half_space.csv', 'w', ) as myfile:\n",
    "    wr = csv.writer(myfile, quoting=csv.QUOTE_NONE, lineterminator = '\\n',escapechar='')\n",
    "    \n",
    "    fields = ([\"position (cm)\", \"Electron Temp (KeV)\", \"Ion Temp (KeV)\"])\n",
    "    for i in range(ll):\n",
    "        wr.writerow([(xlist3[ll-1-i]),(TeList[ll-1-i]), (TiList[ll-1-i])])"
   ]
  }
 ],
 "metadata": {
  "kernelspec": {
   "display_name": "Python 3",
   "language": "python",
   "name": "python3"
  },
  "language_info": {
   "codemirror_mode": {
    "name": "ipython",
    "version": 3
   },
   "file_extension": ".py",
   "mimetype": "text/x-python",
   "name": "python",
   "nbconvert_exporter": "python",
   "pygments_lexer": "ipython3",
   "version": "3.7.3"
  }
 },
 "nbformat": 4,
 "nbformat_minor": 2
}
