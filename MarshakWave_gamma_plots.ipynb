{
 "cells": [
  {
   "cell_type": "markdown",
   "metadata": {},
   "source": [
    "### This notebook graphs ximax vs gamma0 for both space and time dependent cases "
   ]
  },
  {
   "cell_type": "code",
   "execution_count": 1,
   "metadata": {},
   "outputs": [],
   "source": [
    "import numpy as np\n",
    "import matplotlib.pyplot as plt\n",
    "import math\n",
    "from scipy import interpolate\n",
    "from scipy import integrate\n",
    "import time\n",
    "import numpy as np\n",
    "import matplotlib\n",
    "import matplotlib.pyplot as plt\n",
    "from math import sqrt\n",
    "from math import pi\n",
    "import matplotlib.font_manager as fm\n",
    "import matplotlib.ticker as mtick\n",
    "from matplotlib.ticker import ScalarFormatter\n",
    "from scipy import optimize\n",
    "from labellines import labelLine, labelLines\n",
    "import csv"
   ]
  },
  {
   "cell_type": "code",
   "execution_count": 2,
   "metadata": {},
   "outputs": [],
   "source": [
    "#Import show() function for plotting \n",
    "%run C:\\Users\\wbenn/Marshak_Wave_Scripts/show.ipynb\n",
    "#Import initial conditions\n",
    "%run C:\\Users\\wbenn/Marshak_Wave_Scripts/initial_conditions.ipynb"
   ]
  },
  {
   "cell_type": "code",
   "execution_count": 3,
   "metadata": {},
   "outputs": [],
   "source": [
    "#Define Constants\n",
    "n = 3\n",
    "m=0\n",
    "T0=1\n",
    "c=29.9792458\n",
    "a=0.01372\n",
    "kappa0=300\n",
    "xmax=1.2\n",
    "rho = 3.0\n",
    "Cve=0.1*rho\n",
    "Cvi=.05*rho\n",
    "alpha= a*c*4/(3*(n+4)*kappa0*Cve*(T0**n))\n",
    "A = sqrt(1/(2*alpha))\n",
    "tol = 1e-12\n",
    "cmap = plt.get_cmap(\"tab10\")\n",
    "ICt = [g(xmax-tol,xmax),gprime(xmax-tol,xmax), h(xmax-tol,xmax)]\n",
    "ICs = [g(xmax-tol,xmax),gprime(xmax-tol,xmax), f(xmax-tol,xmax)]\n",
    "step = 1e-2"
   ]
  },
  {
   "cell_type": "code",
   "execution_count": 4,
   "metadata": {},
   "outputs": [],
   "source": [
    "# List of gamma0 values to be tested \n",
    "gamma0_list=[0,.0001,.0005,.001,.002,.003,.004,.005,.01,.03,.05,0.1,0.2,0.3,.5,1,3,5,10,50,75,100,300,400,500,1000,1500,10000,1e5]"
   ]
  },
  {
   "cell_type": "code",
   "execution_count": 5,
   "metadata": {},
   "outputs": [],
   "source": [
    "#Time dependent optimization functions\n",
    "#using BDF to solve time dependent\n",
    "opt_fun_BDF_time = lambda xm: integrate.solve_ivp(RHSfun_time, (xm-tol,1e-10), [g(xm-tol,xm),gprime(xm-tol,xm), h(xm-tol,xm)], \n",
    "                                         method='BDF', max_step = step).y[0][-1] - 1\n",
    "#Using DOP853 to solve time dependent\n",
    "opt_fun_DOP_time = lambda xm: integrate.solve_ivp(RHSfun_time, (xm-tol,0), [g(xm-tol,xm),gprime(xm-tol,xm), h(xm-tol,xm)], \n",
    "                                         method='DOP853', max_step = step).y[0][-1] - 1\n",
    "#Space dependent(BDF)\n",
    "opt_fun_BDF_space = lambda xm: integrate.solve_ivp(RHSfun_space, (xm-tol,1e-10), [g(xm-tol,xm),gprime(xm-tol,xm), f(xm-tol,xm)], \n",
    "                                         method='BDF', max_step = step).y[0][-1] - 1"
   ]
  },
  {
   "cell_type": "code",
   "execution_count": null,
   "metadata": {},
   "outputs": [
    {
     "name": "stdout",
     "output_type": "stream",
     "text": [
      "1.1190290377476844\n",
      "1.118479542179178\n"
     ]
    },
    {
     "name": "stderr",
     "output_type": "stream",
     "text": [
      "C:\\Users\\wbenn\\Anaconda3\\lib\\site-packages\\ipykernel_launcher.py:4: RuntimeWarning: invalid value encountered in double_scalars\n",
      "  after removing the cwd from sys.path.\n"
     ]
    },
    {
     "name": "stdout",
     "output_type": "stream",
     "text": [
      "1.1186592649177034\n",
      "1.1177800250990861\n",
      "1.1163563424931793\n",
      "1.115426615971914\n",
      "1.1139230810302898\n",
      "1.112759470544329\n",
      "1.107174647025849\n",
      "1.0879815747805652\n",
      "1.070950844972125\n",
      "1.0401897431413918\n",
      "1.0035451125901695\n",
      "0.9827214760930482\n",
      "0.9605197614554359\n",
      "0.9391071621712493\n",
      "0.9231182899228245\n",
      "0.9191808816552536\n",
      "0.9167121040917271\n",
      "0.9141575768306932\n",
      "0.9143842930065849\n",
      "0.9139706378865092\n",
      "0.9137657567790961\n",
      "0.9138918649222917\n",
      "0.9142194916484581\n"
     ]
    }
   ],
   "source": [
    "#Calculate ximax for m=3/2 for time and space dependent-This takes a while\n",
    "m=3/2\n",
    "minval_list_time_m32=[]\n",
    "minval_list_space_m32 =[]\n",
    "\n",
    "for gamma0 in gamma0_list:\n",
    "    #time dependent\n",
    "    minval1 = optimize.brentq(opt_fun_BDF_time, .8,1.2)\n",
    "    minval_list_time_m32.append(minval1)\n",
    "    print(minval1)\n",
    "   \n",
    "    #space dependent\n",
    "    minval2  = optimize.brentq(opt_fun_BDF_space, .8,1.2)\n",
    "    minval_list_space_m32.append(minval2)\n"
   ]
  },
  {
   "cell_type": "code",
   "execution_count": null,
   "metadata": {},
   "outputs": [],
   "source": [
    "#Calculate ximax for m=0 for time and space dependentm=0\n",
    "m=0\n",
    "minval_list_time_m0=[]\n",
    "minval_list_space_m0 =[]\n",
    "for gamma0 in gamma0_list:\n",
    "    minval1 = optimize.brentq(opt_fun_BDF_time, .8,1.2)\n",
    "    minval_list_time_m0.append(minval1)\n",
    "    print(minval1)\n",
    "    #space solution\n",
    "    minval2  = optimize.brentq(opt_fun_BDF_space, .8,1.2)\n",
    "    minval_list_space_m0.append(minval2)"
   ]
  },
  {
   "cell_type": "markdown",
   "metadata": {},
   "source": [
    "### Plots"
   ]
  },
  {
   "cell_type": "code",
   "execution_count": null,
   "metadata": {},
   "outputs": [],
   "source": [
    "\n",
    "#Plots of ximax vs gamma0, m =3/2\n",
    "fig1, ax1 = plt.subplots()\n",
    "#time\n",
    "ax1.plot(gamma0_list,minval_list_time_m32,label =\"Time Dependent\")\n",
    "ax1.scatter(gamma0_list,minval_list_time_m32)\n",
    "\n",
    "#space\n",
    "ax1.plot(gamma0_list,minval_list_space_m32, label = \"Space Dependent\")\n",
    "ax1.scatter(gamma0_list,minval_list_space_m32)\n",
    "\n",
    "plt.ylabel(r\"$\\xi_{\\mathrm{max}}$\",fontsize=10)\n",
    "plt.xlabel(r\"$\\gamma_0$\", fontsize=10)\n",
    "\n",
    "#this block is for resoving issues with show() function with logscale plots\n",
    "ax1.spines['right'].set_color('none')\n",
    "ax1.spines['top'].set_color('none')\n",
    "ax1.set_xscale('log')\n",
    "ax1.get_xaxis().set_major_formatter(matplotlib.ticker.ScalarFormatter())\n",
    "ax1.xaxis.set_major_formatter(mtick.FuncFormatter(lambda v,_: (\"10$^{%d}$\" % math.log(v,10)) ))\n",
    "ax1.get_yaxis().set_major_formatter(matplotlib.ticker.ScalarFormatter())\n",
    "for label in ax1.get_xticklabels() :\n",
    "    label.set_fontproperties(font)\n",
    "for label in ax1.get_yticklabels() :\n",
    "    label.set_fontproperties(font)\n",
    "ax1.set_xlabel(ax1.get_xlabel(), fontproperties = font)\n",
    "ax1.set_ylabel(ax1.get_ylabel(), fontproperties = font)\n",
    "ax1.set_title(ax1.get_title(), fontproperties = font)\n",
    "#label lines on graph\n",
    "ax1.text(7**(-2),.95,r'$\\gamma \\propto 1/x^2$',horizontalalignment='center', verticalalignment='center',rotation=0,fontsize = 14,c=cmap(1))\n",
    "ax1.text(5,1.07,r'$\\gamma \\propto 1/t$',horizontalalignment='center', verticalalignment='center',rotation=0,fontsize = 14,c=cmap(0))\n",
    "#show(\"gamma0vsximaxm32\")\n",
    "#plt.show()\n",
    "\n",
    "#Plotting  ximax vs gamma0, m =0\n",
    "\n",
    "#fig2, ax1 = plt.subplots()\n",
    "ax1.plot(gamma0_list,minval_list_time_m0,label =\"Time Dependent\",c=cmap(0))\n",
    "ax1.scatter(gamma0_list,minval_list_time_m0,marker=\"^\", color=cmap(0))\n",
    "ax1.scatter(gamma0_list,minval_list_space_m0, label = \"Space Dependent\",marker=\"^\",color=cmap(1))\n",
    "ax1.plot(gamma0_list,minval_list_space_m0, label = \"Space Dependent\",c=cmap(1))\n",
    "plt.ylabel(r\"$\\xi_{\\mathrm{max}}$\",fontsize=10)\n",
    "plt.xlabel(r\"$\\gamma_0$\", fontsize=10)\n",
    "ax1.spines['right'].set_color('none')\n",
    "ax1.spines['top'].set_color('none')\n",
    "ax1.set_xscale('log')\n",
    "ax1.get_xaxis().set_major_formatter(matplotlib.ticker.ScalarFormatter())\n",
    "ax1.xaxis.set_major_formatter(mtick.FuncFormatter(lambda v,_: (\"10$^{%d}$\" % math.log(v,10)) ))\n",
    "ax1.get_yaxis().set_major_formatter(matplotlib.ticker.ScalarFormatter())\n",
    "for label in ax1.get_xticklabels() :\n",
    "    label.set_fontproperties(font)\n",
    "for label in ax1.get_yticklabels() :\n",
    "    label.set_fontproperties(font)\n",
    "ax1.set_xlabel(ax1.get_xlabel(), fontproperties = axisfont)\n",
    "ax1.set_ylabel(ax1.get_ylabel(), fontproperties = axisfont)\n",
    "\n",
    "#label lines on graph\n",
    "#ax1.text(.002,1.03,r'$\\gamma \\propto 1/x^2$',horizontalalignment='center', verticalalignment='center',rotation=0,fontsize = 14,c=cmap(1))\n",
    "#ax1.text(2,1,r'$\\gamma \\propto 1/t$',horizontalalignment='center', verticalalignment='center',rotation=0,fontsize = 14,c=cmap(0))\n",
    "show(\"gamma0vsximax\")\n",
    "plt.show()\n"
   ]
  }
 ],
 "metadata": {
  "kernelspec": {
   "display_name": "Python 3",
   "language": "python",
   "name": "python3"
  },
  "language_info": {
   "codemirror_mode": {
    "name": "ipython",
    "version": 3
   },
   "file_extension": ".py",
   "mimetype": "text/x-python",
   "name": "python",
   "nbconvert_exporter": "python",
   "pygments_lexer": "ipython3",
   "version": "3.7.3"
  }
 },
 "nbformat": 4,
 "nbformat_minor": 2
}
